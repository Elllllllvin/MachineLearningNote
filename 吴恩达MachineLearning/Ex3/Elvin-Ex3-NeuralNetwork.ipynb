{
 "cells": [
  {
   "cell_type": "markdown",
   "metadata": {},
   "source": [
    "# neural network（神经网络）\n",
    "\n",
    "使用逻辑回归识别手写数字。"
   ]
  },
  {
   "cell_type": "code",
   "execution_count": 2,
   "metadata": {},
   "outputs": [],
   "source": [
    "import numpy as np\n",
    "import pandas as pd\n",
    "import matplotlib\n",
    "import matplotlib.pyplot as plt\n",
    "import scipy.optimize as opt\n",
    "from scipy.io import loadmat\n",
    "from sklearn.metrics import classification_report"
   ]
  },
  {
   "cell_type": "markdown",
   "metadata": {},
   "source": [
    "## 训练集\n",
    "共5000个训练数据，每个数据是一个表示20×20的灰度图像，即400维，总矩阵维5000×400"
   ]
  },
  {
   "cell_type": "code",
   "execution_count": 3,
   "metadata": {},
   "outputs": [],
   "source": [
    "def load_data(path, transpose=True):\n",
    "    data = loadmat(path)\n",
    "    X = data['X']\n",
    "    y = data['y']\n",
    "    y = y.reshape(y.shape[0])\n",
    "    print(type(X))\n",
    "    if transpose:\n",
    "        X = np.array([im.reshape((20,20)).T.reshape(400) for im in X])\n",
    "    return X, y"
   ]
  },
  {
   "cell_type": "code",
   "execution_count": 31,
   "metadata": {},
   "outputs": [
    {
     "name": "stdout",
     "output_type": "stream",
     "text": [
      "<class 'numpy.ndarray'>\n",
      "[10 10 10 ...  9  9  9]\n"
     ]
    }
   ],
   "source": [
    "raw_x, raw_y = load_data('ex3data1.mat')\n",
    "raw_x.shape, raw_y.shape\n",
    "#y是（5000，）代表行向量，（5000，1）代表列向量\n",
    "print(raw_y)"
   ]
  },
  {
   "cell_type": "code",
   "execution_count": 7,
   "metadata": {},
   "outputs": [],
   "source": [
    "def plot_an_image(image):\n",
    "    fig, ax = plt.subplots(figsize=(1, 1)) #一纸多图\n",
    "    ax.matshow(image.reshape((20,20)), cmap=matplotlib.cm.binary)\n",
    "    plt.xticks(np.array([]))# 清空坐标轴\n",
    "    plt.yticks(np.array([]))# 清空坐标轴\n",
    "    plt.show()"
   ]
  },
  {
   "cell_type": "code",
   "execution_count": 8,
   "metadata": {},
   "outputs": [
    {
     "data": {
      "image/png": "[encoded data removed]",
      "text/plain": [
       "<Figure size 72x72 with 1 Axes>"
      ]
     },
     "metadata": {},
     "output_type": "display_data"
    },
    {
     "name": "stdout",
     "output_type": "stream",
     "text": [
      "this should be 8\n"
     ]
    }
   ],
   "source": [
    "pick_one = np.random.randint(0, 5000)\n",
    "plot_an_image(raw_x[pick_one, :])\n",
    "print('this should be {}'.format(raw_y[pick_one]))"
   ]
  },
  {
   "cell_type": "code",
   "execution_count": 9,
   "metadata": {},
   "outputs": [],
   "source": [
    "def sigmoid(z):\n",
    "    return 1 / (1 + np.exp(-z))"
   ]
  },
  {
   "cell_type": "markdown",
   "metadata": {},
   "source": [
    "## 准备数据\n",
    "\n",
    "![xx](img/向量化标签.png)"
   ]
  },
  {
   "cell_type": "code",
   "execution_count": 14,
   "metadata": {},
   "outputs": [
    {
     "name": "stdout",
     "output_type": "stream",
     "text": [
      "5000\n"
     ]
    }
   ],
   "source": [
    "X = np.insert(raw_x, 0, np.ones(raw_x.shape[0]), axis=1)"
   ]
  },
  {
   "cell_type": "code",
   "execution_count": 15,
   "metadata": {},
   "outputs": [
    {
     "data": {
      "text/plain": [
       "(10, 5000)"
      ]
     },
     "execution_count": 15,
     "metadata": {},
     "output_type": "execute_result"
    }
   ],
   "source": [
    "y = []\n",
    "for k in range(1, 11):\n",
    "    y.append([1 if i==k else 0 for i in raw_y])\n",
    "y = np.array([y[-1]] + y[:-1])\n",
    "y.shape"
   ]
  },
  {
   "cell_type": "code",
   "execution_count": 16,
   "metadata": {},
   "outputs": [
    {
     "data": {
      "text/plain": [
       "array([[1, 1, 1, ..., 0, 0, 0],\n",
       "       [0, 0, 0, ..., 0, 0, 0],\n",
       "       [0, 0, 0, ..., 0, 0, 0],\n",
       "       ...,\n",
       "       [0, 0, 0, ..., 0, 0, 0],\n",
       "       [0, 0, 0, ..., 0, 0, 0],\n",
       "       [0, 0, 0, ..., 1, 1, 1]])"
      ]
     },
     "execution_count": 16,
     "metadata": {},
     "output_type": "execute_result"
    }
   ],
   "source": [
    "y"
   ]
  },
  {
   "cell_type": "markdown",
   "metadata": {},
   "source": [
    "## 代价函数\n",
    "![](img/cost.png)"
   ]
  },
  {
   "cell_type": "code",
   "execution_count": 17,
   "metadata": {},
   "outputs": [],
   "source": [
    "def cost(theta, X, y):\n",
    "    first = y * np.log(sigmoid(X @ theta.T))\n",
    "    second = (1 - y) * np.log(1 - sigmoid(X @ theta.T))\n",
    "    return -np.mean(first + second)"
   ]
  },
  {
   "cell_type": "code",
   "execution_count": 18,
   "metadata": {},
   "outputs": [],
   "source": [
    "def regularized_cost(theta, X, y, l):\n",
    "    reg = l / (2 * len(X)) * (theta[1:] ** 2).sum()\n",
    "    return cost(theta, X, y) + reg"
   ]
  },
  {
   "cell_type": "markdown",
   "metadata": {},
   "source": [
    "## 梯度函数\n",
    "![](img/gradient.png)\n"
   ]
  },
  {
   "cell_type": "code",
   "execution_count": 19,
   "metadata": {},
   "outputs": [],
   "source": [
    "def gradient(theta, X, y, l):\n",
    "    error = sigmoid(X@theta.T) - y\n",
    "    grad = X.T @ error / len(X)\n",
    "    reg = theta * l / len(X)\n",
    "    reg[0] = 0\n",
    "    return grad + reg"
   ]
  },
  {
   "cell_type": "code",
   "execution_count": 23,
   "metadata": {},
   "outputs": [],
   "source": [
    "def logistic_regression(X, y, l=1):\n",
    "    theta = np.zeros(X.shape[1])\n",
    "    res = opt.minimize(fun = regularized_cost, x0=theta, args=(X, y, l), method='TNC', jac=gradient, options={'disp': True})\n",
    "    return res.x"
   ]
  },
  {
   "cell_type": "markdown",
   "metadata": {},
   "source": [
    "## 预测分析"
   ]
  },
  {
   "cell_type": "code",
   "execution_count": 24,
   "metadata": {},
   "outputs": [],
   "source": [
    "def predict(theta, X):\n",
    "    prob = sigmoid(X @ theta)\n",
    "    return [1 if i >= 0.5 else 0 for i in prob]"
   ]
  },
  {
   "cell_type": "markdown",
   "metadata": {},
   "source": [
    "训练1维"
   ]
  },
  {
   "cell_type": "code",
   "execution_count": 25,
   "metadata": {},
   "outputs": [
    {
     "data": {
      "text/plain": [
       "(401,)"
      ]
     },
     "execution_count": 25,
     "metadata": {},
     "output_type": "execute_result"
    }
   ],
   "source": [
    "theta_0 = logistic_regression(X, y[0])\n",
    "theta_0.shape\n"
   ]
  },
  {
   "cell_type": "code",
   "execution_count": 46,
   "metadata": {},
   "outputs": [
    {
     "name": "stdout",
     "output_type": "stream",
     "text": [
      "Accurary = 0.0\n",
      "563\n"
     ]
    }
   ],
   "source": [
    "y_pred = predict(theta_0, X)\n",
    "print('Accurary = {}'.format(np.mean(y[0] == y_pred)))"
   ]
  },
  {
   "cell_type": "code",
   "execution_count": null,
   "metadata": {},
   "outputs": [],
   "source": [
    "训练多维"
   ]
  },
  {
   "cell_type": "code",
   "execution_count": 27,
   "metadata": {},
   "outputs": [
    {
     "data": {
      "text/plain": [
       "(10, 401)"
      ]
     },
     "execution_count": 27,
     "metadata": {},
     "output_type": "execute_result"
    }
   ],
   "source": [
    "theta_k = np.array([logistic_regression(X, y[k]) for k in range(10)])\n",
    "theta_k.shape"
   ]
  },
  {
   "cell_type": "code",
   "execution_count": 28,
   "metadata": {},
   "outputs": [
    {
     "data": {
      "text/plain": [
       "array([[0.99577337, 0.        , 0.00053526, ..., 0.00006472, 0.00003913,\n",
       "        0.00172128],\n",
       "       [0.99834294, 0.0000001 , 0.00005607, ..., 0.00009686, 0.0000029 ,\n",
       "        0.00008491],\n",
       "       [0.99138305, 0.        , 0.00056804, ..., 0.00000654, 0.02652841,\n",
       "        0.00197391],\n",
       "       ...,\n",
       "       [0.00000068, 0.04136878, 0.00321022, ..., 0.00012721, 0.00297353,\n",
       "        0.70747492],\n",
       "       [0.00001841, 0.00000013, 0.00000009, ..., 0.00164757, 0.06814963,\n",
       "        0.86120617],\n",
       "       [0.02883268, 0.        , 0.00012973, ..., 0.36629601, 0.00497279,\n",
       "        0.14826893]])"
      ]
     },
     "execution_count": 28,
     "metadata": {},
     "output_type": "execute_result"
    }
   ],
   "source": [
    "prob_matrix = sigmoid(X @ theta_k.T)\n",
    "np.set_printoptions(suppress=True)\n",
    "prob_matrix"
   ]
  },
  {
   "cell_type": "code",
   "execution_count": 29,
   "metadata": {},
   "outputs": [
    {
     "data": {
      "text/plain": [
       "array([10, 10, 10, ...,  9,  9,  7], dtype=int64)"
      ]
     },
     "execution_count": 29,
     "metadata": {},
     "output_type": "execute_result"
    }
   ],
   "source": [
    "y_pred = np.argmax(prob_matrix, axis=1) # 返回每行最大的列索引\n",
    "y_pred = np.array([10 if i == 0 else i for i in y_pred])\n",
    "y_pred"
   ]
  },
  {
   "cell_type": "code",
   "execution_count": 30,
   "metadata": {},
   "outputs": [
    {
     "name": "stdout",
     "output_type": "stream",
     "text": [
      "              precision    recall  f1-score   support\n",
      "\n",
      "           1       0.95      0.99      0.97       500\n",
      "           2       0.95      0.92      0.93       500\n",
      "           3       0.95      0.91      0.93       500\n",
      "           4       0.95      0.95      0.95       500\n",
      "           5       0.92      0.92      0.92       500\n",
      "           6       0.97      0.98      0.97       500\n",
      "           7       0.95      0.95      0.95       500\n",
      "           8       0.93      0.92      0.92       500\n",
      "           9       0.92      0.92      0.92       500\n",
      "          10       0.97      0.99      0.98       500\n",
      "\n",
      "    accuracy                           0.94      5000\n",
      "   macro avg       0.94      0.94      0.94      5000\n",
      "weighted avg       0.94      0.94      0.94      5000\n",
      "\n"
     ]
    }
   ],
   "source": [
    "print(classification_report(raw_y, y_pred))"
   ]
  },
  {
   "cell_type": "markdown",
   "metadata": {},
   "source": [
    "# 神经网络"
   ]
  },
  {
   "cell_type": "code",
   "execution_count": 32,
   "metadata": {},
   "outputs": [],
   "source": [
    "def load_weight(path):\n",
    "    data = loadmat(path)\n",
    "    return data['Theta1'], data['Theta2']"
   ]
  },
  {
   "cell_type": "code",
   "execution_count": 33,
   "metadata": {},
   "outputs": [
    {
     "data": {
      "text/plain": [
       "((25, 401), (10, 26))"
      ]
     },
     "execution_count": 33,
     "metadata": {},
     "output_type": "execute_result"
    }
   ],
   "source": [
    "theta1, theta2 = load_weight('ex3weights.mat')\n",
    "theta1.shape, theta2.shape"
   ]
  },
  {
   "cell_type": "code",
   "execution_count": 34,
   "metadata": {},
   "outputs": [
    {
     "name": "stdout",
     "output_type": "stream",
     "text": [
      "<class 'numpy.ndarray'>\n"
     ]
    },
    {
     "data": {
      "text/plain": [
       "((5000, 401), (5000,))"
      ]
     },
     "execution_count": 34,
     "metadata": {},
     "output_type": "execute_result"
    }
   ],
   "source": [
    "X, y = load_data('ex3data1.mat', transpose=False)\n",
    "X = np.insert(X, 0, np.ones(X.shape[0]), axis=1)\n",
    "X.shape, y.shape"
   ]
  },
  {
   "cell_type": "code",
   "execution_count": 35,
   "metadata": {},
   "outputs": [],
   "source": [
    "a1 = X #输入层"
   ]
  },
  {
   "cell_type": "code",
   "execution_count": 36,
   "metadata": {},
   "outputs": [
    {
     "data": {
      "text/plain": [
       "(5000, 26)"
      ]
     },
     "execution_count": 36,
     "metadata": {},
     "output_type": "execute_result"
    }
   ],
   "source": [
    "z2 = a1 @ theta1.T\n",
    "z2 = np.insert(z2, 0, np.ones(z2.shape[0]), axis=1)\n",
    "z2.shape"
   ]
  },
  {
   "cell_type": "code",
   "execution_count": 37,
   "metadata": {},
   "outputs": [
    {
     "data": {
      "text/plain": [
       "(5000, 26)"
      ]
     },
     "execution_count": 37,
     "metadata": {},
     "output_type": "execute_result"
    }
   ],
   "source": [
    "a2 = sigmoid(z2) #第二层\n",
    "a2.shape"
   ]
  },
  {
   "cell_type": "code",
   "execution_count": 38,
   "metadata": {},
   "outputs": [
    {
     "data": {
      "text/plain": [
       "(5000, 10)"
      ]
     },
     "execution_count": 38,
     "metadata": {},
     "output_type": "execute_result"
    }
   ],
   "source": [
    "z3 = a2 @ theta2.T\n",
    "z3.shape"
   ]
  },
  {
   "cell_type": "code",
   "execution_count": 39,
   "metadata": {},
   "outputs": [
    {
     "data": {
      "text/plain": [
       "(5000, 10)"
      ]
     },
     "execution_count": 39,
     "metadata": {},
     "output_type": "execute_result"
    }
   ],
   "source": [
    "a3 = sigmoid(z3) #输出层\n",
    "a3.shape"
   ]
  },
  {
   "cell_type": "code",
   "execution_count": 40,
   "metadata": {},
   "outputs": [
    {
     "data": {
      "text/plain": [
       "array([[0.00013825, 0.0020554 , 0.00304012, ..., 0.00049102, 0.00774326,\n",
       "        0.99622946],\n",
       "       [0.00058776, 0.00285027, 0.00414688, ..., 0.00292311, 0.00235617,\n",
       "        0.99619667],\n",
       "       [0.00010868, 0.0038266 , 0.03058551, ..., 0.07514539, 0.0065704 ,\n",
       "        0.93586278],\n",
       "       ...,\n",
       "       [0.06278247, 0.00450406, 0.03545109, ..., 0.0026367 , 0.68944816,\n",
       "        0.00002744],\n",
       "       [0.00101909, 0.00073436, 0.00037856, ..., 0.01456166, 0.97598976,\n",
       "        0.00023337],\n",
       "       [0.00005908, 0.00054172, 0.0000259 , ..., 0.00700508, 0.73281465,\n",
       "        0.09166961]])"
      ]
     },
     "execution_count": 40,
     "metadata": {},
     "output_type": "execute_result"
    }
   ],
   "source": [
    "a3"
   ]
  },
  {
   "cell_type": "code",
   "execution_count": 41,
   "metadata": {},
   "outputs": [
    {
     "data": {
      "text/plain": [
       "array([10, 10, 10, ...,  9,  9,  9], dtype=int64)"
      ]
     },
     "execution_count": 41,
     "metadata": {},
     "output_type": "execute_result"
    }
   ],
   "source": [
    "y_pred = np.argmax(a3, axis=1)+1\n",
    "y_pred"
   ]
  },
  {
   "cell_type": "code",
   "execution_count": 42,
   "metadata": {},
   "outputs": [
    {
     "name": "stdout",
     "output_type": "stream",
     "text": [
      "              precision    recall  f1-score   support\n",
      "\n",
      "           1       0.97      0.98      0.97       500\n",
      "           2       0.98      0.97      0.97       500\n",
      "           3       0.98      0.96      0.97       500\n",
      "           4       0.97      0.97      0.97       500\n",
      "           5       0.98      0.98      0.98       500\n",
      "           6       0.97      0.99      0.98       500\n",
      "           7       0.98      0.97      0.97       500\n",
      "           8       0.98      0.98      0.98       500\n",
      "           9       0.97      0.96      0.96       500\n",
      "          10       0.98      0.99      0.99       500\n",
      "\n",
      "    accuracy                           0.98      5000\n",
      "   macro avg       0.98      0.98      0.98      5000\n",
      "weighted avg       0.98      0.98      0.98      5000\n",
      "\n"
     ]
    }
   ],
   "source": [
    "print(classification_report(y, y_pred))"
   ]
  },
  {
   "cell_type": "code",
   "execution_count": null,
   "metadata": {},
   "outputs": [],
   "source": []
  }
 ],
 "metadata": {
  "kernelspec": {
   "display_name": "Python 3",
   "language": "python",
   "name": "python3"
  },
  "language_info": {
   "codemirror_mode": {
    "name": "ipython",
    "version": 3
   },
   "file_extension": ".py",
   "mimetype": "text/x-python",
   "name": "python",
   "nbconvert_exporter": "python",
   "pygments_lexer": "ipython3",
   "version": "3.7.4"
  }
 },
 "nbformat": 4,
 "nbformat_minor": 2
}
